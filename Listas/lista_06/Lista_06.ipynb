{
 "cells": [
  {
   "cell_type": "code",
   "execution_count": 1,
   "metadata": {},
   "outputs": [],
   "source": [
    "from mylibs import stats as st\n",
    "from mylibs import resample as rs\n",
    "from mylibs import linear_model as lm\n",
    "from mylibs import metrics as me\n",
    "from mylibs import transform as tm\n",
    "from mylibs import dist_metrics as dm\n",
    "import numpy as np\n",
    "import pandas as pd\n",
    "import importlib \n",
    "from sklearn import linear_model\n",
    "from sklearn import svm\n",
    "from sklearn import ensemble\n",
    "from matplotlib import pyplot as plt\n"
   ]
  },
  {
   "cell_type": "code",
   "execution_count": 2,
   "metadata": {},
   "outputs": [],
   "source": [
    "importlib.reload(st)\n",
    "importlib.reload(rs)\n",
    "importlib.reload(lm)\n",
    "importlib.reload(me);\n",
    "importlib.reload(dm);"
   ]
  },
  {
   "cell_type": "code",
   "execution_count": 3,
   "metadata": {},
   "outputs": [],
   "source": [
    "X = np.array([[ 2.7810836 ,  2.550537  ],\n",
    "       [ 1.46548937,  2.36212508],  \n",
    "       [ 3.39656169,  4.40029353],  \n",
    "       [ 1.38807019,  1.85022032],  \n",
    "       [ 3.06407232,  3.00530597],  \n",
    "       [ 7.62753121,  2.75926224],\n",
    "       [ 5.33244125,  2.08862677],\n",
    "       [ 6.92259672,  1.77106367],\n",
    "       [ 8.67541865, -0.24206865],\n",
    "       [ 7.67375647,  3.50856301]])"
   ]
  },
  {
   "cell_type": "code",
   "execution_count": 4,
   "metadata": {},
   "outputs": [],
   "source": [
    "y = np.array([ 0,  0,  0,  0,  0,  1,  1,  1,  1,  1])\n"
   ]
  },
  {
   "cell_type": "code",
   "execution_count": 5,
   "metadata": {},
   "outputs": [
    {
     "data": {
      "image/png": "[encoded data removed]",
      "text/plain": [
       "<matplotlib.figure.Figure at 0x7f06bc7aa0b8>"
      ]
     },
     "metadata": {},
     "output_type": "display_data"
    }
   ],
   "source": [
    "plt.scatter(X[:, 0], X[:, 1], c=y)\n",
    "plt.grid()"
   ]
  },
  {
   "cell_type": "code",
   "execution_count": 6,
   "metadata": {},
   "outputs": [],
   "source": [
    "# Locate the most similar neighbors\n",
    "def get_neighbors(X_train, test_row, k):\n",
    "    distances = dm.euclidean_distance(X_train, test_row)\n",
    "    distances2 = dm.manhattan_distance(X_train, test_row)\n",
    "    distances3 = dm.minkowski_distance(X_train, test_row,2)\n",
    "    distances4 = dm.chebyshev_distance(X_train,test_row)\n",
    "    \n",
    "    idx_sort = np.argsort(distances)\n",
    "    idx_sort2 = np.argsort(distances2)\n",
    "    idx_sort3 = np.argsort(distances3)\n",
    "    idx_sort4 = np.argsort(distances4)\n",
    "    return idx_sort[1:k+1],idx_sort2[1:k+1],idx_sort3[1:k+1],idx_sort4[1:k+1]"
   ]
  },
  {
   "cell_type": "code",
   "execution_count": 7,
   "metadata": {},
   "outputs": [
    {
     "data": {
      "text/plain": [
       "(array([4, 1, 3]), array([4, 1, 3]), array([4, 1, 3]), array([4, 1, 3]))"
      ]
     },
     "execution_count": 7,
     "metadata": {},
     "output_type": "execute_result"
    }
   ],
   "source": [
    "get_neighbors(X, X[0], 3)\n"
   ]
  },
  {
   "cell_type": "code",
   "execution_count": 8,
   "metadata": {},
   "outputs": [],
   "source": [
    "def predict_classification(X, y, test_row, k):\n",
    "    idx_sort,idx_sort2,idx_sort3,idx_sort4 = get_neighbors(X, test_row, k)\n",
    "    output_values = y[idx_sort]\n",
    "    output_values2 = y[idx_sort2]\n",
    "    output_values3 = y[idx_sort3]\n",
    "    output_values4 = y[idx_sort4]    \n",
    "    counts = np.unique(output_values, return_counts=True)\n",
    "    counts2 = np.unique(output_values2, return_counts=True)\n",
    "    counts3 = np.unique(output_values3, return_counts=True)\n",
    "    counts4 = np.unique(output_values4, return_counts=True)\n",
    "    idx_max = np.argmax(counts[1])\n",
    "    idx_max2 = np.argmax(counts[1])\n",
    "    idx_max3 = np.argmax(counts[1])\n",
    "    idx_max4 = np.argmax(counts[1])\n",
    "    prediction = counts[0][idx_max]\n",
    "    prediction2 = counts[0][idx_max2]\n",
    "    prediction3 = counts[0][idx_max3]\n",
    "    prediction4 = counts[0][idx_max4]\n",
    "    print('idx_sort:{}, output_values:{}, prediction:{}'.format(idx_sort, output_values, prediction))\n",
    "    print('idx_sort2:{}, output_values2:{}, prediction2:{}'.format(idx_sort2, output_values2, prediction2))\n",
    "    print('idx_sort3:{}, output_values3:{}, prediction3:{}'.format(idx_sort3, output_values3, prediction3))\n",
    "    print('idx_sort4:{}, output_values4:{}, prediction4:{}'.format(idx_sort4, output_values4, prediction4))\n",
    "    \n",
    "    return prediction,prediction2,prediction3,prediction4"
   ]
  },
  {
   "cell_type": "code",
   "execution_count": 9,
   "metadata": {},
   "outputs": [],
   "source": [
    "def predict_regression(X, y, test_row, k):\n",
    "    idx_sort,idx_sort2,idx_sort3,idx_sort4 = get_neighbors(X, test_row, k)\n",
    "    output_values = y[idx_sort]\n",
    "    output_values2 = y[idx_sort2]\n",
    "    output_values3 = y[idx_sort3]\n",
    "    output_values4 = y[idx_sort4]\n",
    "    prediction = np.sum(output_values) / output_values.shape[0]\n",
    "    prediction2 = np.sum(output_values2) / output_values2.shape[0]\n",
    "    prediction3 = np.sum(output_values3) / output_values3.shape[0]\n",
    "    prediction4 = np.sum(output_values4) / output_values4.shape[0]\n",
    "    print('idx_sort:{}, output_values:{}, prediction:{}'.format(idx_sort, output_values, prediction))\n",
    "    print('idx_sort2:{}, output_values2:{}, prediction2:{}'.format(idx_sort2, output_values2, prediction2))\n",
    "    print('idx_sort3:{}, output_values3:{}, prediction3:{}'.format(idx_sort3, output_values3, prediction3))\n",
    "    print('idx_sort4:{}, output_values4:{}, prediction4:{}'.format(idx_sort4, output_values4, prediction4))\n",
    "    return prediction,prediction2,prediction3,prediction4"
   ]
  },
  {
   "cell_type": "code",
   "execution_count": 10,
   "metadata": {},
   "outputs": [
    {
     "name": "stdout",
     "output_type": "stream",
     "text": [
      "idx_sort:[0 6 2], output_values:[0 1 0], prediction:0\n",
      "idx_sort2:[4 6 2], output_values2:[0 1 0], prediction2:0\n",
      "idx_sort3:[0 6 2], output_values3:[0 1 0], prediction3:0\n",
      "idx_sort4:[4 6 2], output_values4:[0 1 0], prediction4:0\n"
     ]
    },
    {
     "data": {
      "text/plain": [
       "(0, 0, 0, 0)"
      ]
     },
     "execution_count": 10,
     "metadata": {},
     "output_type": "execute_result"
    }
   ],
   "source": [
    "predict_classification(X, y, np.array([[4.0, 2.5]]), 3)\n"
   ]
  },
  {
   "cell_type": "code",
   "execution_count": 11,
   "metadata": {},
   "outputs": [
    {
     "name": "stdout",
     "output_type": "stream",
     "text": [
      "idx_sort:[0 6 2], output_values:[0 1 0], prediction:0.3333333333333333\n",
      "idx_sort2:[4 6 2], output_values2:[0 1 0], prediction2:0.3333333333333333\n",
      "idx_sort3:[0 6 2], output_values3:[0 1 0], prediction3:0.3333333333333333\n",
      "idx_sort4:[4 6 2], output_values4:[0 1 0], prediction4:0.3333333333333333\n"
     ]
    },
    {
     "data": {
      "text/plain": [
       "(0.33333333333333331,\n",
       " 0.33333333333333331,\n",
       " 0.33333333333333331,\n",
       " 0.33333333333333331)"
      ]
     },
     "execution_count": 11,
     "metadata": {},
     "output_type": "execute_result"
    }
   ],
   "source": [
    "predict_regression(X, y, np.array([[4.0, 2.5]]), 3)\n"
   ]
  },
  {
   "cell_type": "code",
   "execution_count": 12,
   "metadata": {},
   "outputs": [
    {
     "name": "stdout",
     "output_type": "stream",
     "text": [
      "idx_sort:[7 5 4 0 9], output_values:[1 1 0 0 1], prediction:1\n",
      "idx_sort2:[7 5 0 4 9], output_values2:[1 1 0 0 1], prediction2:1\n",
      "idx_sort3:[7 5 4 0 9], output_values3:[1 1 0 0 1], prediction3:1\n",
      "idx_sort4:[7 5 0 4 9], output_values4:[1 1 0 0 1], prediction4:1\n"
     ]
    },
    {
     "data": {
      "text/plain": [
       "(1, 1, 1, 1)"
      ]
     },
     "execution_count": 12,
     "metadata": {},
     "output_type": "execute_result"
    }
   ],
   "source": [
    "predict_classification(X, y, X[6], 5)\n"
   ]
  },
  {
   "cell_type": "code",
   "execution_count": 13,
   "metadata": {},
   "outputs": [
    {
     "name": "stdout",
     "output_type": "stream",
     "text": [
      "idx_sort:[7 5 4 0 9], output_values:[1 1 0 0 1], prediction:0.6\n",
      "idx_sort2:[7 5 0 4 9], output_values2:[1 1 0 0 1], prediction2:0.6\n",
      "idx_sort3:[7 5 4 0 9], output_values3:[1 1 0 0 1], prediction3:0.6\n",
      "idx_sort4:[7 5 0 4 9], output_values4:[1 1 0 0 1], prediction4:0.6\n"
     ]
    },
    {
     "data": {
      "text/plain": [
       "(0.59999999999999998,\n",
       " 0.59999999999999998,\n",
       " 0.59999999999999998,\n",
       " 0.59999999999999998)"
      ]
     },
     "execution_count": 13,
     "metadata": {},
     "output_type": "execute_result"
    }
   ],
   "source": [
    "predict_regression(X, y, X[6], 5)\n"
   ]
  },
  {
   "cell_type": "code",
   "execution_count": null,
   "metadata": {},
   "outputs": [],
   "source": []
  }
 ],
 "metadata": {
  "kernelspec": {
   "display_name": "Python 3",
   "language": "python",
   "name": "python3"
  },
  "language_info": {
   "codemirror_mode": {
    "name": "ipython",
    "version": 3
   },
   "file_extension": ".py",
   "mimetype": "text/x-python",
   "name": "python",
   "nbconvert_exporter": "python",
   "pygments_lexer": "ipython3",
   "version": "3.6.4"
  }
 },
 "nbformat": 4,
 "nbformat_minor": 2
}

{
 "cells": [
  {
   "cell_type": "markdown",
   "metadata": {},
   "source": [
    "# Lista 02 _ Francisco Leonardo Batista Martins"
   ]
  },
  {
   "cell_type": "markdown",
   "metadata": {},
   "source": [
    "# 1. Gere manualmente (\"no braço\") um dataset. "
   ]
  },
  {
   "cell_type": "code",
   "execution_count": 1,
   "metadata": {},
   "outputs": [],
   "source": [
    "%matplotlib inline\n",
    "import numpy as np\n",
    "from matplotlib import pyplot as plt"
   ]
  },
  {
   "cell_type": "code",
   "execution_count": 2,
   "metadata": {},
   "outputs": [],
   "source": [
    "X1 = np.array([1, 1, 1, 1, 1, 5, 5, 5, 5,5])\n"
   ]
  },
  {
   "cell_type": "code",
   "execution_count": 3,
   "metadata": {},
   "outputs": [
    {
     "data": {
      "text/plain": [
       "3.0"
      ]
     },
     "execution_count": 3,
     "metadata": {},
     "output_type": "execute_result"
    }
   ],
   "source": [
    "np.mean(X1)\n"
   ]
  },
  {
   "cell_type": "code",
   "execution_count": 4,
   "metadata": {},
   "outputs": [
    {
     "data": {
      "text/plain": [
       "2.0"
      ]
     },
     "execution_count": 4,
     "metadata": {},
     "output_type": "execute_result"
    }
   ],
   "source": [
    "np.std(X1)"
   ]
  },
  {
   "cell_type": "code",
   "execution_count": 9,
   "metadata": {},
   "outputs": [
    {
     "data": {
      "image/png": "[encoded data removed]",
      "text/plain": [
       "<matplotlib.figure.Figure at 0x7f75aea6acc0>"
      ]
     },
     "metadata": {},
     "output_type": "display_data"
    }
   ],
   "source": [
    "plt.hist(X1);"
   ]
  },
  {
   "cell_type": "code",
   "execution_count": null,
   "metadata": {},
   "outputs": [],
   "source": []
  },
  {
   "cell_type": "markdown",
   "metadata": {},
   "source": [
    "# 2. Gere dados randômicos e desenhe o histograma para uma distribuição normal ."
   ]
  },
  {
   "cell_type": "code",
   "execution_count": 15,
   "metadata": {},
   "outputs": [
    {
     "data": {
      "image/png": "[encoded data removed]",
      "text/plain": [
       "<matplotlib.figure.Figure at 0x7f75a6ec1be0>"
      ]
     },
     "metadata": {},
     "output_type": "display_data"
    }
   ],
   "source": [
    "dois = np.random.normal(loc=60, scale=10, size=5000)\n",
    "plt.hist(dois,bins=100);"
   ]
  },
  {
   "cell_type": "code",
   "execution_count": null,
   "metadata": {},
   "outputs": [],
   "source": [
    "\n"
   ]
  },
  {
   "cell_type": "markdown",
   "metadata": {},
   "source": [
    "# 3. Gere dados randômicos e desenhe o histograma para 2 distribuições escolhidas por você"
   ]
  },
  {
   "cell_type": "code",
   "execution_count": null,
   "metadata": {},
   "outputs": [],
   "source": []
  },
  {
   "cell_type": "code",
   "execution_count": 57,
   "metadata": {},
   "outputs": [],
   "source": [
    "#poisson\n",
    "poi = np.random.poisson(lam=(100., 500.), size=(100, 2))"
   ]
  },
  {
   "cell_type": "code",
   "execution_count": 56,
   "metadata": {},
   "outputs": [
    {
     "data": {
      "image/png": "[encoded data removed]",
      "text/plain": [
       "<matplotlib.figure.Figure at 0x7f759e309c18>"
      ]
     },
     "metadata": {},
     "output_type": "display_data"
    }
   ],
   "source": [
    "plt.hist(poi);"
   ]
  },
  {
   "cell_type": "code",
   "execution_count": 47,
   "metadata": {},
   "outputs": [],
   "source": [
    "#Geometria\n",
    "g = np.random.geometric(p=0.35, size=10000)"
   ]
  },
  {
   "cell_type": "code",
   "execution_count": 53,
   "metadata": {},
   "outputs": [
    {
     "data": {
      "text/plain": [
       "(array([5.701e+03, 2.496e+03, 1.054e+03, 4.310e+02, 1.920e+02, 7.700e+01,\n",
       "        2.900e+01, 1.000e+01, 4.000e+00, 6.000e+00]),\n",
       " array([ 1.,  3.,  5.,  7.,  9., 11., 13., 15., 17., 19., 21.]),\n",
       " <a list of 10 Patch objects>)"
      ]
     },
     "execution_count": 53,
     "metadata": {},
     "output_type": "execute_result"
    },
    {
     "data": {
      "image/png": "[encoded data removed]",
      "text/plain": [
       "<matplotlib.figure.Figure at 0x7f759e578b00>"
      ]
     },
     "metadata": {},
     "output_type": "display_data"
    }
   ],
   "source": [
    "plt.hist(g)"
   ]
  },
  {
   "cell_type": "code",
   "execution_count": null,
   "metadata": {},
   "outputs": [],
   "source": []
  },
  {
   "cell_type": "code",
   "execution_count": null,
   "metadata": {},
   "outputs": [],
   "source": []
  },
  {
   "cell_type": "markdown",
   "metadata": {},
   "source": [
    "# 4. Altere os parâmetros do Gradiente Descendente"
   ]
  },
  {
   "cell_type": "code",
   "execution_count": 59,
   "metadata": {},
   "outputs": [],
   "source": [
    "# y = b0 + b1 * x\n",
    "# b1 é a inclinação, b0 é y-intercept\n",
    "def compute_error_for_line_given_points(b0, b1, x, y):\n",
    "    totalError = np.sum((y - (b1 * x + b0)) ** 2)\n",
    "    return totalError / float(len(y))\n",
    "\n",
    "def step_gradient(b0_current, b1_current, x, y, learning_rate):\n",
    "    N = float(len(y))\n",
    "    b0_gradient = 2/N * np.sum(-(y - ((b1_current * x) + b0_current)))\n",
    "    b1_gradient = 2/N * np.sum(-x * (y - ((b1_current * x) + b0_current)))\n",
    "    new_b0 = b0_current - (learning_rate * b0_gradient)\n",
    "    new_b1 = b1_current - (learning_rate * b1_gradient)\n",
    "    return new_b0, new_b1\n",
    "\n",
    "def gradient_descent_runner(x, y, b0, b1, learning_rate, num_iterations):\n",
    "    for _ in range(num_iterations):\n",
    "        b0, b1 = step_gradient(b0, b1, x, y, learning_rate)\n",
    "    return b0, b1\n",
    "\n",
    "def run(x, y, initial_b0, initial_b1, learning_rate, num_iterations):\n",
    "    print(\"Inicia com b0 = {}, b1 = {}, error = {}\".format(initial_b0, initial_b1, compute_error_for_line_given_points(initial_b0, initial_b1, x, y)))  \n",
    "    print(\"Executando...\")\n",
    "    b0, b1 = gradient_descent_runner(x, y, initial_b0, initial_b1, learning_rate, num_iterations)\n",
    "    print(\"Após {} iterações, obtemos b0 = {}, b1 = {}, error = {}\".format(num_iterations, b0, b1, compute_error_for_line_given_points(b0, b1, x, y)))"
   ]
  },
  {
   "cell_type": "code",
   "execution_count": 61,
   "metadata": {},
   "outputs": [],
   "source": [
    "points = np.genfromtxt(\"data.csv\", delimiter=\",\")\n"
   ]
  },
  {
   "cell_type": "code",
   "execution_count": 63,
   "metadata": {},
   "outputs": [
    {
     "name": "stdout",
     "output_type": "stream",
     "text": [
      "Inicia com b0 = 0, b1 = 0, error = 5565.107834483214\n",
      "Executando...\n",
      "Após 500000 iterações, obtemos b0 = 7.808193346466104, b1 = 1.3260244442316425, error = 110.2586454057313\n",
      "CPU times: user 17.3 s, sys: 12 ms, total: 17.4 s\n",
      "Wall time: 17.4 s\n"
     ]
    }
   ],
   "source": [
    "%%time\n",
    "x = points[:, 0]\n",
    "y = points[:, 1]\n",
    "learning_rate = 0.0001\n",
    "initial_b0 = 0 # y-intercept inicial\n",
    "initial_b1 = 0 # inclinação inicial\n",
    "num_iterations = 500000\n",
    "run(x, y, initial_b0, initial_b1, learning_rate, num_iterations)"
   ]
  },
  {
   "cell_type": "code",
   "execution_count": 65,
   "metadata": {},
   "outputs": [],
   "source": [
    "from sklearn import linear_model\n"
   ]
  },
  {
   "cell_type": "code",
   "execution_count": 66,
   "metadata": {},
   "outputs": [
    {
     "name": "stdout",
     "output_type": "stream",
     "text": [
      "b0 = 7.991020982270399, b1 = [1.32243102], error = 110.25738346621316\n",
      "CPU times: user 56 ms, sys: 4 ms, total: 60 ms\n",
      "Wall time: 659 ms\n"
     ]
    }
   ],
   "source": [
    "%%time\n",
    "model = linear_model.LinearRegression()\n",
    "X = [ [i] for i in x ] \n",
    "model.fit(X, y)\n",
    "b0, b1 = model.intercept_, model.coef_\n",
    "y_pred = model.predict(X)\n",
    "print(\"b0 = {}, b1 = {}, error = {}\".format(b0, b1, compute_error_for_line_given_points(b0, b1, x, y)))"
   ]
  },
  {
   "cell_type": "code",
   "execution_count": null,
   "metadata": {},
   "outputs": [],
   "source": []
  },
  {
   "cell_type": "code",
   "execution_count": 75,
   "metadata": {},
   "outputs": [
    {
     "data": {
      "text/plain": [
       "0.0012619395181445725"
      ]
     },
     "execution_count": 75,
     "metadata": {},
     "output_type": "execute_result"
    }
   ],
   "source": [
    "#Error = manual - sklearn\n",
    "Erro_Total = 110.2586454057313 - compute_error_for_line_given_points(b0, b1, x, y)\n",
    "Erro_Total"
   ]
  },
  {
   "cell_type": "code",
   "execution_count": 80,
   "metadata": {},
   "outputs": [
    {
     "name": "stdout",
     "output_type": "stream",
     "text": [
      "Coeficientes:  7.991020982270399 1.3224310227553597\n",
      "Erro:  110.25738346621316\n"
     ]
    }
   ],
   "source": [
    "print(\"Coeficientes: \",model.intercept_,model.coef_[0]),\n",
    "\n",
    "print(\"Erro: \",compute_error_for_line_given_points(b0, b1, x, y))\n"
   ]
  },
  {
   "cell_type": "markdown",
   "metadata": {},
   "source": [
    "# 04_ A) "
   ]
  },
  {
   "cell_type": "code",
   "execution_count": 83,
   "metadata": {
    "scrolled": true
   },
   "outputs": [
    {
     "name": "stdout",
     "output_type": "stream",
     "text": [
      "Inicia com b0 = 0, b1 = 0, error = 5565.107834483214\n",
      "Executando...\n"
     ]
    },
    {
     "name": "stderr",
     "output_type": "stream",
     "text": [
      "/home/leonardo/anaconda3/lib/python3.6/site-packages/numpy/core/_methods.py:32: RuntimeWarning: overflow encountered in reduce\n",
      "  return umr_sum(a, axis, dtype, out, keepdims)\n",
      "/home/leonardo/anaconda3/lib/python3.6/site-packages/ipykernel_launcher.py:12: RuntimeWarning: invalid value encountered in double_scalars\n",
      "  if sys.path[0] == '':\n"
     ]
    },
    {
     "name": "stdout",
     "output_type": "stream",
     "text": [
      "Após 500000 iterações, obtemos b0 = nan, b1 = nan, error = nan\n",
      "CPU times: user 17 s, sys: 48 ms, total: 17.1 s\n",
      "Wall time: 17.2 s\n"
     ]
    }
   ],
   "source": [
    "%%time\n",
    "x = points[:, 0]\n",
    "y = points[:, 1]\n",
    "learning_rate = 0.01\n",
    "initial_b0 = 0 # y-intercept inicial\n",
    "initial_b1 = 0 # inclinação inicial\n",
    "num_iterations = 500000\n",
    "run(x, y, initial_b0, initial_b1, learning_rate, num_iterations)"
   ]
  },
  {
   "cell_type": "markdown",
   "metadata": {},
   "source": [
    "<h4> Dá Run Time Warning </h4>"
   ]
  },
  {
   "cell_type": "markdown",
   "metadata": {},
   "source": [
    "# 04_ B) \n"
   ]
  },
  {
   "cell_type": "code",
   "execution_count": 93,
   "metadata": {},
   "outputs": [
    {
     "name": "stdout",
     "output_type": "stream",
     "text": [
      "Inicia com b0 = 0, b1 = 0, error = 5565.107834483214\n",
      "Executando...\n",
      "Após 89 iterações, obtemos b0 = 5.797395039524365e+148, b1 = 2.9496234602465667e+150, error = 2.1688803463679651e+304\n",
      "CPU times: user 4 ms, sys: 0 ns, total: 4 ms\n",
      "Wall time: 8.74 ms\n"
     ]
    }
   ],
   "source": [
    "%%time\n",
    "x = points[:, 0]\n",
    "y = points[:, 1]\n",
    "learning_rate = 0.01\n",
    "initial_b0 = 0 # y-intercept inicial\n",
    "initial_b1 = 0 # inclinação inicial\n",
    "num_iterations = 89\n",
    "run(x, y, initial_b0, initial_b1, learning_rate, num_iterations)"
   ]
  },
  {
   "cell_type": "code",
   "execution_count": null,
   "metadata": {},
   "outputs": [],
   "source": [
    "\n",
    "\n"
   ]
  },
  {
   "cell_type": "markdown",
   "metadata": {},
   "source": [
    "# 5. Use o gradiente descendente com boa precisão para:"
   ]
  },
  {
   "cell_type": "code",
   "execution_count": 94,
   "metadata": {},
   "outputs": [],
   "source": [
    "X_ = [1400,1600,1700,1875,1100,1550,2350,2450,1425,1700]\n",
    "y_ = [245000,312000,279000,308000,199000,219000,405000,324000,319000,255000]"
   ]
  },
  {
   "cell_type": "code",
   "execution_count": 138,
   "metadata": {},
   "outputs": [
    {
     "name": "stdout",
     "output_type": "stream",
     "text": [
      "Inicia com b0 = 0, b1 = 0, error = 85342300000.0\n",
      "Executando...\n",
      "Após 207 iterações, obtemos b0 = 1.302839219556314e+147, b1 = 2.353751837208532e+150, error = 1.716546568287644e+307\n",
      "CPU times: user 4 ms, sys: 4 ms, total: 8 ms\n",
      "Wall time: 8.54 ms\n"
     ]
    }
   ],
   "source": [
    "%%time\n",
    "x = np.array(X_)\n",
    "y = np.array(y_)\n",
    "learning_rate = 0.000001\n",
    "initial_b0 = 0 # y-intercept inicial\n",
    "initial_b1 = 0 # inclinação inicial\n",
    "num_iterations = 207\n",
    "run(x, y, initial_b0, initial_b1, learning_rate, num_iterations)"
   ]
  },
  {
   "cell_type": "code",
   "execution_count": null,
   "metadata": {},
   "outputs": [],
   "source": []
  },
  {
   "cell_type": "code",
   "execution_count": null,
   "metadata": {},
   "outputs": [],
   "source": []
  },
  {
   "cell_type": "code",
   "execution_count": null,
   "metadata": {},
   "outputs": [],
   "source": []
  },
  {
   "cell_type": "code",
   "execution_count": null,
   "metadata": {},
   "outputs": [],
   "source": []
  },
  {
   "cell_type": "code",
   "execution_count": null,
   "metadata": {},
   "outputs": [],
   "source": []
  },
  {
   "cell_type": "code",
   "execution_count": null,
   "metadata": {},
   "outputs": [],
   "source": []
  }
 ],
 "metadata": {
  "kernelspec": {
   "display_name": "Python 3",
   "language": "python",
   "name": "python3"
  },
  "language_info": {
   "codemirror_mode": {
    "name": "ipython",
    "version": 3
   },
   "file_extension": ".py",
   "mimetype": "text/x-python",
   "name": "python",
   "nbconvert_exporter": "python",
   "pygments_lexer": "ipython3",
   "version": "3.6.4"
  }
 },
 "nbformat": 4,
 "nbformat_minor": 2
}

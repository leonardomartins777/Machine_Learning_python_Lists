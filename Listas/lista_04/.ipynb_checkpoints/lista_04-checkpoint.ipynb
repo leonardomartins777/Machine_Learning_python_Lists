{
 "cells": [
  {
   "cell_type": "code",
   "execution_count": 1,
   "metadata": {},
   "outputs": [],
   "source": [
    "from mylibs import stats as st\n",
    "from mylibs import resample as re\n",
    "from mylibs import linear_model as lm\n",
    "from mylibs import metrics as ms\n",
    "from mylibs import transform as tm\n",
    "import numpy as np\n",
    "import pandas as pd\n",
    "import importlib \n",
    "from sklearn import linear_model"
   ]
  },
  {
   "cell_type": "code",
   "execution_count": 2,
   "metadata": {},
   "outputs": [
    {
     "data": {
      "text/plain": [
       "<module 'mylibs.metrics' from '/home/leonardo/Machine_Learning_python_Lists/Listas/lista_04/mylibs/metrics.py'>"
      ]
     },
     "execution_count": 2,
     "metadata": {},
     "output_type": "execute_result"
    }
   ],
   "source": [
    "importlib.reload(st)\n",
    "importlib.reload(re)\n",
    "importlib.reload(lm)\n",
    "importlib.reload(ms)\n"
   ]
  },
  {
   "cell_type": "code",
   "execution_count": 3,
   "metadata": {},
   "outputs": [],
   "source": [
    "np.random.seed(0)\n",
    "x = np.random.rand(20)\n",
    "x = (x *100).round(2)\n",
    "x = np.resize(x,(20,1))"
   ]
  },
  {
   "cell_type": "code",
   "execution_count": 4,
   "metadata": {},
   "outputs": [],
   "source": [
    "x_norm = tm.normalize(x)"
   ]
  },
  {
   "cell_type": "code",
   "execution_count": 6,
   "metadata": {},
   "outputs": [],
   "source": [
    "x_std = tm.standardize(x)"
   ]
  },
  {
   "cell_type": "code",
   "execution_count": null,
   "metadata": {},
   "outputs": [],
   "source": []
  }
 ],
 "metadata": {
  "kernelspec": {
   "display_name": "Python 3",
   "language": "python",
   "name": "python3"
  },
  "language_info": {
   "codemirror_mode": {
    "name": "ipython",
    "version": 3
   },
   "file_extension": ".py",
   "mimetype": "text/x-python",
   "name": "python",
   "nbconvert_exporter": "python",
   "pygments_lexer": "ipython3",
   "version": "3.6.4"
  }
 },
 "nbformat": 4,
 "nbformat_minor": 2
}
